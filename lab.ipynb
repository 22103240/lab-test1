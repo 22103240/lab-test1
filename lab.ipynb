{
 "cells": [
  {
   "cell_type": "code",
   "execution_count": 48,
   "metadata": {},
   "outputs": [],
   "source": [
    "import numpy as np\n",
    "import matplotlib.pyplot as plt\n",
    "import scipy.signal as signal\n",
    "#cars=np.random.randint(1,100,1440)\n",
    "traffic_data=np.array(np.random.randint(1,100,1440))\n",
    "#traffic_data.append(cars)\n",
    "#traffic_data[1])\n",
    "#print(np.avg(traffic_data))\n",
    "smooth_data=np.array(np.random.randint(1,200,1440))"
   ]
  },
  {
   "cell_type": "code",
   "execution_count": 42,
   "metadata": {
    "scrolled": true
   },
   "outputs": [
    {
     "name": "stdout",
     "output_type": "stream",
     "text": [
      "{0: 51.916666666666664, 1: 46.1, 2: 46.6, 3: 54.61666666666667, 4: 53.483333333333334, 5: 48.333333333333336, 6: 53.88333333333333, 7: 46.71666666666667, 8: 52.36666666666667, 9: 54.05, 10: 48.983333333333334, 11: 51.81666666666667, 12: 49.4, 13: 47.1, 14: 49.083333333333336, 15: 53.1, 16: 46.483333333333334, 17: 45.93333333333333, 18: 48.96666666666667, 19: 51.55, 20: 46.78333333333333, 21: 42.03333333333333, 22: 49.06666666666667, 23: 54.71666666666667}\n"
     ]
    }
   ],
   "source": [
    "def avg_vehicle_passing(traffic_data):\n",
    "    #print(traffic_data)\n",
    "    store={}\n",
    "    total=0\n",
    "    k=0\n",
    "    h=0\n",
    "    for i in range(1,1440,60):\n",
    "        for j in range (1,60):\n",
    "           total=total+traffic_data[h] \n",
    "           h=h+1\n",
    "        store[k]=total/60\n",
    "        total=0\n",
    "        k=k+1\n",
    "    print(store)  \n",
    "    \n",
    "avg_vehicle_passing(traffic_data)"
   ]
  },
  {
   "cell_type": "code",
   "execution_count": 49,
   "metadata": {},
   "outputs": [
    {
     "ename": "NameError",
     "evalue": "name 'smooth' is not defined",
     "output_type": "error",
     "traceback": [
      "\u001b[1;31m---------------------------------------------------------------------------\u001b[0m",
      "\u001b[1;31mNameError\u001b[0m                                 Traceback (most recent call last)",
      "\u001b[1;32m<ipython-input-49-0db95084d765>\u001b[0m in \u001b[0;36m<module>\u001b[1;34m\u001b[0m\n\u001b[0;32m      1\u001b[0m \u001b[0mx\u001b[0m\u001b[1;33m=\u001b[0m\u001b[0mnp\u001b[0m\u001b[1;33m.\u001b[0m\u001b[0mlinspace\u001b[0m\u001b[1;33m(\u001b[0m\u001b[1;36m1\u001b[0m\u001b[1;33m,\u001b[0m\u001b[1;36m100\u001b[0m\u001b[1;33m,\u001b[0m\u001b[1;36m1000\u001b[0m\u001b[1;33m)\u001b[0m\u001b[1;33m\u001b[0m\u001b[1;33m\u001b[0m\u001b[0m\n\u001b[1;32m----> 2\u001b[1;33m \u001b[0mplt\u001b[0m\u001b[1;33m.\u001b[0m\u001b[0mbar\u001b[0m\u001b[1;33m(\u001b[0m\u001b[0mtraffic_data\u001b[0m\u001b[1;33m,\u001b[0m\u001b[0msmooth\u001b[0m\u001b[1;33m,\u001b[0m\u001b[0mstore\u001b[0m\u001b[1;33m)\u001b[0m\u001b[1;33m\u001b[0m\u001b[1;33m\u001b[0m\u001b[0m\n\u001b[0m\u001b[0;32m      3\u001b[0m \u001b[0mplt\u001b[0m\u001b[1;33m.\u001b[0m\u001b[0mshow\u001b[0m\u001b[1;33m(\u001b[0m\u001b[1;33m)\u001b[0m\u001b[1;33m\u001b[0m\u001b[1;33m\u001b[0m\u001b[0m\n",
      "\u001b[1;31mNameError\u001b[0m: name 'smooth' is not defined"
     ]
    }
   ],
   "source": [
    "x=np.linspace(1,100,1000)\n",
    "plt.bar(traffic_data,smooth,store)\n",
    "plt.show()"
   ]
  },
  {
   "cell_type": "code",
   "execution_count": null,
   "metadata": {},
   "outputs": [],
   "source": []
  }
 ],
 "metadata": {
  "kernelspec": {
   "display_name": "Python 3",
   "language": "python",
   "name": "python3"
  },
  "language_info": {
   "codemirror_mode": {
    "name": "ipython",
    "version": 3
   },
   "file_extension": ".py",
   "mimetype": "text/x-python",
   "name": "python",
   "nbconvert_exporter": "python",
   "pygments_lexer": "ipython3",
   "version": "3.7.3"
  }
 },
 "nbformat": 4,
 "nbformat_minor": 2
}
